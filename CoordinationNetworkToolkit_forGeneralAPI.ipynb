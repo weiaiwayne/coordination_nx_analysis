{
  "nbformat": 4,
  "nbformat_minor": 0,
  "metadata": {
    "colab": {
      "name": "CoordinationNetworkToolkit_COVID_Wayne.ipynb",
      "provenance": [],
      "collapsed_sections": []
    },
    "kernelspec": {
      "display_name": "Python 3",
      "name": "python3"
    }
  },
  "cells": [
    {
      "cell_type": "code",
      "metadata": {
        "id": "ApJ2DdAsqZ4F"
      },
      "source": [
        "%%capture\n",
        "!pip install coordination_network_toolkit\n",
        "!pip install networkx"
      ],
      "execution_count": null,
      "outputs": []
    },
    {
      "cell_type": "code",
      "metadata": {
        "id": "ixU84Pr7qj98"
      },
      "source": [
        "import coordination_network_toolkit as coord_net_tk\n",
        "import networkx as nx\n",
        "import pandas as pd\n",
        "import numpy as np\n",
        "import time\n",
        "from datetime import *\n",
        "from dateutil import parser\n",
        "import re\n",
        "\n",
        "from math import pow\n",
        "from string import ascii_letters, digits\n",
        "\n",
        "# RFC 2396 unreserved URI characters\n",
        "characters = ascii_letters + digits\n",
        "size = len(characters)\n",
        "seq = range(0,size)\n",
        "\n",
        "dictionary = dict(zip(seq, characters))\n",
        "reverse_dictionary = dict((v,k) for k,v in dictionary.items())\n",
        "\n",
        "def encode(n):\n",
        "  if n == \"\" :\n",
        "    chars = \"\"\n",
        "  else:\n",
        "    d = []\n",
        "    n = n\n",
        "    while n > 0:\n",
        "        qr = divmod(n, size)\n",
        "        n = qr[0]\n",
        "        d.append(qr[1])\n",
        "    chars = ''\n",
        "    for i in d:\n",
        "        chars += dictionary[i]\n",
        "    return chars\n",
        "\n",
        "def convert_date_to_float(text):\n",
        "  text = parser.parse(text)\n",
        "  #text = re.sub('[^0-9]','', str(text)) #to integer\n",
        "  text = text.timestamp()\n",
        "  return text"
      ],
      "execution_count": null,
      "outputs": []
    },
    {
      "cell_type": "code",
      "metadata": {
        "id": "6kBRpm0fNZqx"
      },
      "source": [
        "%%capture\n",
        "\n",
        "##START WITH APRIL WEEKLY DATA\n",
        "!wget https://www.dropbox.com/s/z2m4hi2r1varu0j/hydrate-clean_dataset_522_clean.tsv\n",
        "!wget https://www.dropbox.com/s/sti0m1q9up3doak/hydrate-clean_dataset_523_clean.tsv\n",
        "!wget https://www.dropbox.com/s/fmpj89x08g1p1m7/hydrate-clean_dataset_524_clean.tsv\n",
        "!wget https://www.dropbox.com/s/i2nmew5gewcceje/hydrate-clean_dataset_525_clean.tsv\n",
        "!wget https://www.dropbox.com/s/fw6e1yic9u26neo/hydrate-clean_dataset_526_clean.tsv\n",
        "!wget https://www.dropbox.com/s/l7842grp16x065d/hydrate-clean_dataset_527_clean.tsv\n",
        "!wget https://www.dropbox.com/s/lri8e8dbz398fuc/hydrate-clean_dataset_528_clean.tsv\n",
        "!wget https://www.dropbox.com/s/ft2rb2397r9w5yr/hydrate-clean_dataset_529_clean.tsv\n",
        "!wget https://www.dropbox.com/s/nummf1hi4i1j6be/hydrate-clean_dataset_530_clean.tsv\n",
        "!wget https://www.dropbox.com/s/4mhsowqf5li4vj2/hydrate-clean_dataset_531_clean.tsv"
      ],
      "execution_count": null,
      "outputs": []
    },
    {
      "cell_type": "code",
      "metadata": {
        "id": "oev7pNjiD4aF"
      },
      "source": [
        "column_names = [\"timestamp\",\"message_id\",\"tweet_id_str\",\"message\",\"tweet_truncated\",\"tweet_source\",\"reply_id\",\"tweet_in_reply_to_status_id_str\",\"tweet_in_reply_to_user_id\",\"tweet_in_reply_to_user_id_str\",\"tweet_in_reply_to_screen_name\",\"tweet_geo\",\"tweet_coordinates\",\"tweet_place\",\"tweet_contributors\",\"user_id\",\"tweet_user_id_str\",\"tweet_user_name\",\"username\",\"tweet_user_location\",\"tweet_user_description\",\"tweet_place_id\",\"tweet_place_url\",\"tweet_place_place_type\",\"tweet_place_name\",\"tweet_place_full_name\",\"tweet_place_country_code\",\"tweet_place_country\",\"tweet_place_contained_within\",\"tweet_place_bounding_box_type\",\"tweet_place_bounding_box_coordinates\",\"tweet_geo_type\", \"tweet_geo_coordinates\",\"tweet_coordinates_type\",\"tweet_coordinates_coordinates\",\"lang\",\"retweet_count\",\"favorite_count\",\"urls\"]\n",
        "\n",
        "tsv_read1 = pd.read_csv(\"hydrate-clean_dataset_522_clean.tsv\", sep='\\t')\n",
        "tsv_read1.columns = column_names\n",
        "tsv_read1 = tsv_read1[tsv_read1.lang==\"en\"]\n",
        "\n",
        "tsv_read2 = pd.read_csv(\"hydrate-clean_dataset_523_clean.tsv\", sep='\\t')\n",
        "tsv_read2.columns = column_names\n",
        "tsv_read2 = tsv_read2[tsv_read2.lang==\"en\"]\n",
        "\n",
        "\n",
        "tsv_read3 = pd.read_csv(\"hydrate-clean_dataset_524_clean.tsv\", sep='\\t')\n",
        "tsv_read3.columns = column_names\n",
        "tsv_read3 = tsv_read3[tsv_read3.lang==\"en\"]\n",
        "\n",
        "\n",
        "tsv_read4 = pd.read_csv(\"hydrate-clean_dataset_525_clean.tsv\", sep='\\t')\n",
        "tsv_read4.columns = column_names\n",
        "tsv_read4 = tsv_read4[tsv_read4.lang==\"en\"]\n",
        "\n",
        "\n",
        "tsv_read5 = pd.read_csv(\"hydrate-clean_dataset_526_clean.tsv\", sep='\\t')\n",
        "tsv_read5.columns = column_names\n",
        "tsv_read5 = tsv_read5[tsv_read5.lang==\"en\"]\n",
        "\n",
        "\n",
        "tsv_read6 = pd.read_csv(\"hydrate-clean_dataset_527_clean.tsv\", sep='\\t')\n",
        "tsv_read6.columns = column_names\n",
        "tsv_read6 = tsv_read6[tsv_read6.lang==\"en\"]\n",
        "\n",
        "tsv_read7 = pd.read_csv(\"hydrate-clean_dataset_528_clean.tsv\", sep='\\t')\n",
        "tsv_read7.columns = column_names\n",
        "tsv_read7 = tsv_read7[tsv_read7.lang==\"en\"]\n",
        "\n",
        "tsv_read8 = pd.read_csv(\"hydrate-clean_dataset_529_clean.tsv\", sep='\\t')\n",
        "tsv_read8.columns = column_names\n",
        "tsv_read8 = tsv_read8[tsv_read8.lang==\"en\"]\n",
        "\n",
        "tsv_read9 = pd.read_csv(\"hydrate-clean_dataset_530_clean.tsv\", sep='\\t')\n",
        "tsv_read9.columns = column_names\n",
        "tsv_read9 = tsv_read9[tsv_read9.lang==\"en\"]\n",
        "\n",
        "tsv_read10 = pd.read_csv(\"hydrate-clean_dataset_531_clean.tsv\", sep='\\t')\n",
        "tsv_read10.columns = column_names\n",
        "tsv_read10 = tsv_read10[tsv_read10.lang==\"en\"]\n",
        "\n",
        "tsv_read = pd.concat([tsv_read1, tsv_read2,tsv_read3,tsv_read4,tsv_read5,tsv_read6,tsv_read7,tsv_read8,tsv_read9,tsv_read10])\n",
        "tsv_read['timestamp']\n",
        "\n",
        "#!rm hydrate-clean_dataset_323_clean.tsv"
      ],
      "execution_count": null,
      "outputs": []
    },
    {
      "cell_type": "code",
      "metadata": {
        "id": "csxFcDI1FCPm"
      },
      "source": [
        "del tsv_read1, tsv_read2,tsv_read3,tsv_read4,tsv_read5,tsv_read6,tsv_read7,tsv_read8,tsv_read9,tsv_read10"
      ],
      "execution_count": null,
      "outputs": []
    },
    {
      "cell_type": "code",
      "metadata": {
        "colab": {
          "base_uri": "https://localhost:8080/"
        },
        "id": "K5IXqWJhNvpR",
        "outputId": "ed3ab805-bf08-4ba9-f94b-9c0a8c69c017"
      },
      "source": [
        "tsv_read['repost_id'] = \"\"\n",
        "tsv_read = tsv_read[['message_id', 'user_id','username', \"repost_id\",'reply_id','message','timestamp','urls']]\n",
        "tsv_read['timestamp'] = tsv_read.timestamp.apply(convert_date_to_float)\n",
        "tsv_read['reply_id'] = tsv_read['reply_id'].str.replace('None','')\n",
        "tsv_read.dropna(subset=['message'], inplace=True)\n",
        "print (len(tsv_read))\n",
        "\n",
        "tsv_read.to_csv(\"tsv_read.csv\",sep=',',index=False)"
      ],
      "execution_count": null,
      "outputs": [
        {
          "output_type": "stream",
          "text": [
            "4582808\n"
          ],
          "name": "stdout"
        }
      ]
    },
    {
      "cell_type": "code",
      "metadata": {
        "id": "XBE4apXfc6oC"
      },
      "source": [
        "tsv_read = tsv_read[tsv_read.message.astype(str).str.len() > 20]"
      ],
      "execution_count": null,
      "outputs": []
    },
    {
      "cell_type": "code",
      "metadata": {
        "id": "LRnYNP90M_l9"
      },
      "source": [
        "tsv_read.to_csv(\"tsv_read.csv\",sep=',',index=False)"
      ],
      "execution_count": null,
      "outputs": []
    },
    {
      "cell_type": "code",
      "metadata": {
        "colab": {
          "base_uri": "https://localhost:8080/"
        },
        "id": "XFEii_49NBRP",
        "outputId": "d77292a2-bd21-4a8b-842f-7475abe03216"
      },
      "source": [
        "csv_filename = \"tsv_read.csv\"\n",
        "db_name = \"covidtweets_mayw45.db\"\n",
        "\n",
        "import coordination_network_toolkit as coord_net_tk\n",
        "import networkx as nx\n",
        "\n",
        "# Preprocess CSV data into database\n",
        "coord_net_tk.preprocess.preprocess_csv_files(db_name, [csv_filename])"
      ],
      "execution_count": null,
      "outputs": [
        {
          "output_type": "stream",
          "text": [
            "Begin preprocessing tsv_read.csv into covidtweets_mayw45.db\n",
            "Done preprocessing tsv_read.csv into covidtweets_mayw45.db\n"
          ],
          "name": "stdout"
        }
      ]
    },
    {
      "cell_type": "code",
      "metadata": {
        "colab": {
          "base_uri": "https://localhost:8080/"
        },
        "id": "SHOkMNVnaB25",
        "outputId": "cf1aeadb-5cba-474d-80cc-0958c49a48ab"
      },
      "source": [
        "!compute_networks covidtweets_mayw45.db compute co_tweet --time_window 60 --output_file covidtweets_mayw45_cotweet_60s.graphml --output_format graphml"
      ],
      "execution_count": null,
      "outputs": [
        {
          "output_type": "stream",
          "text": [
            "Calculating a co_tweet network on covidtweets_mayw45.db with the following settings:\n",
            "    time_window: 60 seconds\n",
            "    min_edge_weight: 2 co-ocurring messages\n",
            "    n_cpus: 2 processors\n",
            "    output_file: covidtweets_mayw45_cotweet_60s.graphml\n",
            "Ensuring the necessary index exists\n",
            "Namespace(command='compute', database='covidtweets_mayw45.db', include_self_loops=False, include_symmetric_edges=False, min_document_size_similarity=1, min_edge_weight=2, n_cpus=2, n_messages=10, network_type='co_tweet', output_file='covidtweets_mayw45_cotweet_60s.graphml', output_format='graphml', resolved=False, similarity_threshold=0.8, time_window=60)\n"
          ],
          "name": "stdout"
        }
      ]
    },
    {
      "cell_type": "code",
      "metadata": {
        "colab": {
          "base_uri": "https://localhost:8080/"
        },
        "id": "e8-4yQpWa2px",
        "outputId": "6a20ba6a-def2-4164-95f7-6a1435bb1137"
      },
      "source": [
        "!compute_networks covidtweets_mayw45.db compute co_link --time_window 60 --output_file covidtweets_mayw45_colink_60s.graphml --output_format graphml"
      ],
      "execution_count": null,
      "outputs": [
        {
          "output_type": "stream",
          "text": [
            "Calculating a co_link network on covidtweets_mayw45.db with the following settings:\n",
            "    time_window: 60 seconds\n",
            "    min_edge_weight: 2 co-ocurring messages\n",
            "    n_cpus: 2 processors\n",
            "    output_file: covidtweets_mayw45_colink_60s.graphml\n",
            "    resolved: False\n",
            "Ensuring the necessary index exists\n",
            "Namespace(command='compute', database='covidtweets_mayw45.db', include_self_loops=False, include_symmetric_edges=False, min_document_size_similarity=1, min_edge_weight=2, n_cpus=2, n_messages=10, network_type='co_link', output_file='covidtweets_mayw45_colink_60s.graphml', output_format='graphml', resolved=False, similarity_threshold=0.8, time_window=60)\n"
          ],
          "name": "stdout"
        }
      ]
    },
    {
      "cell_type": "code",
      "metadata": {
        "colab": {
          "base_uri": "https://localhost:8080/"
        },
        "id": "Y0LWBvdfcHjv",
        "outputId": "1637694d-2625-414e-8e9f-a36a9556a7a3"
      },
      "source": [
        "!compute_networks covidtweets_mayw45.db compute co_reply --time_window 60 --output_file covidtweets_mayw45_coreply_60s.graphml --output_format graphml"
      ],
      "execution_count": null,
      "outputs": [
        {
          "output_type": "stream",
          "text": [
            "Calculating a co_reply network on covidtweets_mayw45.db with the following settings:\n",
            "    time_window: 60 seconds\n",
            "    min_edge_weight: 2 co-ocurring messages\n",
            "    n_cpus: 2 processors\n",
            "    output_file: covidtweets_mayw45_coreply_60s.graphml\n",
            "Ensuring the necessary index exists\n",
            "Namespace(command='compute', database='covidtweets_mayw45.db', include_self_loops=False, include_symmetric_edges=False, min_document_size_similarity=1, min_edge_weight=2, n_cpus=2, n_messages=10, network_type='co_reply', output_file='covidtweets_mayw45_coreply_60s.graphml', output_format='graphml', resolved=False, similarity_threshold=0.8, time_window=60)\n"
          ],
          "name": "stdout"
        }
      ]
    },
    {
      "cell_type": "code",
      "metadata": {
        "id": "oxpBZQ8lcVvM",
        "colab": {
          "base_uri": "https://localhost:8080/"
        },
        "outputId": "4158dbcf-a05e-49b0-a8a7-c5fe495da751"
      },
      "source": [
        "!compute_networks covidtweets_mayw45.db compute co_similar_tweet --time_window 60 --output_file covidtweets_mayw45_cosimilar_60s.graphml --output_format graphml"
      ],
      "execution_count": null,
      "outputs": [
        {
          "output_type": "stream",
          "text": [
            "Calculating a co_similar_tweet network on covidtweets_mayw45.db with the following settings:\n",
            "    time_window: 60 seconds\n",
            "    min_edge_weight: 2 co-ocurring messages\n",
            "    n_cpus: 2 processors\n",
            "    output_file: covidtweets_mayw45_cosimilar_60s.graphml\n",
            "Tokenizing messages\n"
          ],
          "name": "stdout"
        }
      ]
    }
  ]
}
